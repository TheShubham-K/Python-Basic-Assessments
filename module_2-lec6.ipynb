{
 "cells": [
  {
   "cell_type": "markdown",
   "metadata": {},
   "source": [
    "## Jupyter Widgets (Optional)"
   ]
  },
  {
   "cell_type": "code",
   "execution_count": null,
   "metadata": {
    "collapsed": true
   },
   "outputs": [],
   "source": [
    "# In this brief lecture I want to introduce you to one of the more advanced features of the \n",
    "# Jupyter notebook development environment called widgets. Sometimes you want\n",
    "# to interact with a function you have created and call it multiple times with different\n",
    "# parameters. For instance, if we wanted to draw a red box around a portion of an\n",
    "# image to try and fine tune the crop location. Widgets are one way to do this quickly\n",
    "# in the browser without having to learn how to write a large desktop application.\n",
    "#\n",
    "# Lets check it out. First we want to import the Image and ImageDraw classes from the\n",
    "# PILLOW package\n",
    "from PIL import Image, ImageDraw\n",
    "\n",
    "# Then we want to import the interact class from the widgets package\n",
    "from ipywidgets import interact\n",
    "\n",
    "# We will use interact to annotate a function. Lets bring in an image that we know we \n",
    "# are interested in, like the storefront image from a previous lecture\n",
    "image=Image.open('readonly/storefront.jpg')\n",
    "\n",
    "# Ok, our setup is done. Now we're going to use the interact decorator to indicate\n",
    "# that we want to wrap the python function. We do this using the @ sign. This will\n",
    "# take a set of parameters which are identical to the function to be called. Then Jupyter\n",
    "# will draw some sliders on the screen to let us manipulate these values. Decorators,\n",
    "# which is what the @ sign is describing, are standard python statements and just a\n",
    "# short hand for functions which wrap other functions. They are a bit advanced though, so\n",
    "# we haven't talked about them in this course, and you might just have to have some faith\n",
    "@interact(left=100, top=100, right=200, bottom=200)\n",
    "\n",
    "# Now we just write the function we had before\n",
    "def draw_border(left, top, right, bottom):\n",
    "    img=image.copy()\n",
    "    drawing_object=ImageDraw.Draw(img)\n",
    "    drawing_object.rectangle((left,top,right,bottom), fill = None, outline ='red')\n",
    "    display(img)"
   ]
  },
  {
   "cell_type": "code",
   "execution_count": null,
   "metadata": {
    "collapsed": true
   },
   "outputs": [],
   "source": [
    "# Jupyter widgets is certainly advanced territory, but if you would like\n",
    "# to explore more you can read about what is available here: \n",
    "# https://ipywidgets.readthedocs.io/en/stable/examples/Using%20Interact.html"
   ]
  }
 ],
 "metadata": {
  "colab": {
   "name": "Module 2.ipynb",
   "provenance": [],
   "version": "0.3.2"
  },
  "kernelspec": {
   "display_name": "Python 3",
   "language": "python",
   "name": "python3"
  },
  "language_info": {
   "codemirror_mode": {
    "name": "ipython",
    "version": 3
   },
   "file_extension": ".py",
   "mimetype": "text/x-python",
   "name": "python",
   "nbconvert_exporter": "python",
   "pygments_lexer": "ipython3",
   "version": "3.6.2"
  }
 },
 "nbformat": 4,
 "nbformat_minor": 2
}
