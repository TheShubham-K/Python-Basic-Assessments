{
 "cells": [
  {
   "cell_type": "markdown",
   "metadata": {},
   "source": [
    "## Lecture: The (Py)Tesseract Library"
   ]
  },
  {
   "cell_type": "code",
   "execution_count": null,
   "metadata": {
    "colab": {},
    "colab_type": "code",
    "collapsed": true,
    "id": "B0P4ehjER8bq"
   },
   "outputs": [],
   "source": [
    "# We're going to start experimenting with tesseract using just a simple image of nice clean text.\n",
    "# Lets first import Image from PIL and display the image text.png.\n",
    "from PIL import Image\n",
    "\n",
    "image = Image.open(\"readonly/text.png\")\n",
    "display(image)"
   ]
  },
  {
   "cell_type": "code",
   "execution_count": null,
   "metadata": {
    "colab": {},
    "colab_type": "code",
    "collapsed": true,
    "id": "4w4k52VwR8bu"
   },
   "outputs": [],
   "source": [
    "# Great, we have a base image of some big clear text\n",
    "# Lets import pytesseract and use the dir() fundtion to get a sense of what might be some interesting\n",
    "# functions to play with\n",
    "import pytesseract\n",
    "dir(pytesseract)"
   ]
  },
  {
   "cell_type": "code",
   "execution_count": null,
   "metadata": {
    "colab": {},
    "colab_type": "code",
    "collapsed": true,
    "id": "dg9KlgaxR8b6",
    "outputId": "ac573a44-d53c-41f6-f566-9a203d94901d"
   },
   "outputs": [],
   "source": [
    "# It looks like there are just a handful of interesting functions, and I think image_to_string\n",
    "# is probably our best bet. Lets use the help() function to interrogate this a bit more \n",
    "help(pytesseract.image_to_string)"
   ]
  },
  {
   "cell_type": "code",
   "execution_count": null,
   "metadata": {
    "colab": {},
    "colab_type": "code",
    "collapsed": true,
    "id": "B_SyR7QfR8b_",
    "outputId": "7cd8e9db-5311-4d7b-acc4-247c17b4ce82"
   },
   "outputs": [],
   "source": [
    "# So this function takes an image as the first parameter, then there are a bunch of optional parameters,\n",
    "# and it will return the results of the OCR. I think it's worth comparing this documentation string\n",
    "# with the documentation we were receiving from the PILLOW module. Lets run the help command on the \n",
    "# Image resize function()\n",
    "help(Image.Image.resize)"
   ]
  },
  {
   "cell_type": "code",
   "execution_count": null,
   "metadata": {
    "collapsed": true
   },
   "outputs": [],
   "source": [
    "# Notice how the PILLOW function has a bit more information in it. First it's using a specific format\n",
    "# called reStructuredText, which is similar in intent to document markups such as HTML, the language of\n",
    "# the web. The intent is to embed semantics in the documentation itself. For instance, in the resize()\n",
    "# function we see the words \"param size\" with colons surrounding it. This allows documentation engines\n",
    "# which create web docs from source code to link the parameter to the extended docs about that parameter.\n",
    "# In this case the extended docs tell us that the size should be passed as a tuple of width and height.\n",
    "# Notice how the docs for image_to_string, for instance, indicate that there is a \"lang\" parameter we can\n",
    "# use, but then fail to say anything about what that parameter is for or what its format is.\n",
    "#\n",
    "# What this really means is that we need to dig deeper. Here's a quick hack if you want to look at the\n",
    "# source code of a function -- you can use the inspect getsource() command and print the results\n",
    "import inspect\n",
    "src = inspect.getsource(pytesseract.image_to_string)\n",
    "print(src)"
   ]
  },
  {
   "cell_type": "code",
   "execution_count": null,
   "metadata": {
    "collapsed": true
   },
   "outputs": [],
   "source": [
    "# There's actually another way in jupyter, and that's to append *two* question marks to the end of\n",
    "# a given function or module. Other editors have similar features, and is a great reason to use a \n",
    "# software development environment\n",
    "pytesseract.image_to_string??"
   ]
  },
  {
   "cell_type": "code",
   "execution_count": null,
   "metadata": {
    "collapsed": true
   },
   "outputs": [],
   "source": [
    "# We can see from the source code that there really isn't much more information about what the parameters\n",
    "# are for this image_to_string function. This is because underneath the pytesseract library is calling a C++\n",
    "# library which does all of the hard work, and the author just passes through all of the calls to the \n",
    "# underlying tesseract executable. This is a common issue when working with python libraries, and it means\n",
    "# we need to do some web sleuthing in order to understand how we can interact with tesseract.\n",
    "#\n",
    "# In a case like this I just googled \"tesseract command line parameters\" and the first hit was what I was\n",
    "# looking for, here's the URL: https://github.com/tesseract-ocr/tesseract/wiki/Command-Line-Usage\n",
    "#\n",
    "# This goes to a wiki page which describes how to call the tesseract executable, and as we read down we see\n",
    "# that we can actually have tesseract use multiple languages in its detection, such as English and Hindi, by\n",
    "# passing them in as \"eng+hin\". Very cool. "
   ]
  },
  {
   "cell_type": "code",
   "execution_count": null,
   "metadata": {
    "collapsed": true
   },
   "outputs": [],
   "source": [
    "# One last thing to mention - the image_to_string() function takes in an \"image\", but the docs don't\n",
    "# really describe what this image is underneath. Is it a string to an image file? A PILLOW image?\n",
    "# Something else?\n",
    "#\n",
    "# Again we have to sleuth (and/or experiment) to understand what we should do. If we look at the source\n",
    "# code for the pytesseract library, we see that there is a function called run_and_get_output(). Here's\n",
    "# a link to that function on the author's github account:\n",
    "# https://github.com/madmaze/pytesseract/blob/d1596f7f59a517ad814b7d810ccdef7d33763221/src/pytesseract.py#L199\n",
    "#\n",
    "# In this function we see that one of the first things which happens is the image is saved through\n",
    "# the save_image() function. Here's that line of code:\n",
    "# https://github.com/madmaze/pytesseract/blob/d1596f7f59a517ad814b7d810ccdef7d33763221/src/pytesseract.py#L116\n",
    "#\n",
    "# And we see there that another function is called, prepare(image), which actually loads the image as a\n",
    "# PILLOW image file. So yes, sending a PIL image file is appropriate use for this function! It sure would\n",
    "# have been useful for the author to have included this information in reStructuredText to help us not have\n",
    "# to dig through the implementation. But, this is an open source project -- maybe you would like to contribute\n",
    "# back better documentation?\n",
    "#\n",
    "# Hint: The doc line we needed was :param image: A PIL Image.Image file or an ndarray of bytes\n",
    "#\n",
    "# In the end, we often don't do this full level of investigation, and we just experiment and try things. It\n",
    "# seems likely that a PIL Image.Image would work, given how well known PIL is in the python world. But still,\n",
    "# as you explore and use different libraries you'll see a breadth of different documentation norms, so it's\n",
    "# useful to know how to explore the source code. And now that you're at the end of this course, you've got\n",
    "# the skills to do so!\n",
    "#\n",
    "# Ok, lets try and run tesseract on this image\n",
    "text = pytesseract.image_to_string(image)\n",
    "print(text)"
   ]
  },
  {
   "cell_type": "code",
   "execution_count": null,
   "metadata": {
    "collapsed": true
   },
   "outputs": [],
   "source": [
    "# Looks great! We see that the output includes new line characters, and faithfully represents the text\n",
    "# but doesn't include any special formatting. Lets go on and look at something with a bit more nuance to it."
   ]
  }
 ],
 "metadata": {
  "colab": {
   "name": "Module 2.ipynb",
   "provenance": [],
   "version": "0.3.2"
  },
  "kernelspec": {
   "display_name": "Python 3",
   "language": "python",
   "name": "python3"
  },
  "language_info": {
   "codemirror_mode": {
    "name": "ipython",
    "version": 3
   },
   "file_extension": ".py",
   "mimetype": "text/x-python",
   "name": "python",
   "nbconvert_exporter": "python",
   "pygments_lexer": "ipython3",
   "version": "3.6.2"
  }
 },
 "nbformat": 4,
 "nbformat_minor": 2
}
