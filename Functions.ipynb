{
 "cells": [
  {
   "cell_type": "code",
   "execution_count": 2,
   "metadata": {},
   "outputs": [
    {
     "name": "stdout",
     "output_type": "stream",
     "text": [
      "Hello\n",
      "Glad to meet You\n"
     ]
    }
   ],
   "source": [
    "def hello():\n",
    "    \"\"\"This function sya hello to u and greets u\n",
    "    Some more docstrings\"\"\"\n",
    "    print(\"Hello\")\n",
    "    print(\"Glad to meet You\")\n",
    "\n",
    "hello()"
   ]
  },
  {
   "cell_type": "code",
   "execution_count": 3,
   "metadata": {},
   "outputs": [],
   "source": [
    "import turtle\n",
    "\n",
    "def drawSquare(t, sz):\n",
    "    \"\"\"Make turtle t draw a square of with side sz.\"\"\"\n",
    "\n",
    "    for i in range(4):\n",
    "        t.forward(sz)\n",
    "        t.left(90)\n",
    "\n",
    "\n",
    "wn = turtle.Screen()      # Set up the window and its attributes\n",
    "wn.bgcolor(\"lightgreen\")\n",
    "\n",
    "alex = turtle.Turtle()    # create alex\n",
    "drawSquare(alex, 50)      # Call the function to draw the square passing the actual turtle and the actual side size\n",
    "\n",
    "wn.exitonclick()"
   ]
  },
  {
   "cell_type": "code",
   "execution_count": 1,
   "metadata": {},
   "outputs": [
    {
     "name": "stdout",
     "output_type": "stream",
     "text": [
      "Hello Iman and Jackie\n",
      "Glad to meet you\n",
      "Hello Class Class Class \n",
      "Glad to meet you\n"
     ]
    }
   ],
   "source": [
    "def hello2(s):\n",
    "    print(\"Hello \" + s)\n",
    "    print(\"Glad to meet you\")\n",
    "\n",
    "hello2(\"Iman\" + \" and Jackie\")\n",
    "hello2(\"Class \" * 3)"
   ]
  },
  {
   "cell_type": "code",
   "execution_count": 7,
   "metadata": {},
   "outputs": [
    {
     "name": "stdout",
     "output_type": "stream",
     "text": [
      "None\n"
     ]
    }
   ],
   "source": [
    "# Common mistakes in Function programs..\n",
    "\n",
    "def mylist():\n",
    "    mylist = [1,2,5,46]\n",
    "    mylist = mylist.append(4)\n",
    "    return(mylist)\n",
    "print(mylist())"
   ]
  },
  {
   "cell_type": "code",
   "execution_count": 8,
   "metadata": {},
   "outputs": [
    {
     "name": "stdout",
     "output_type": "stream",
     "text": [
      "The result of 10 squared is 100.\n"
     ]
    }
   ],
   "source": [
    "def square(x):\n",
    "    y = x * x\n",
    "    return y\n",
    "\n",
    "toSquare = 10\n",
    "result = square(toSquare)\n",
    "print(\"The result of {} squared is {}.\".format(toSquare, result))"
   ]
  },
  {
   "cell_type": "code",
   "execution_count": 9,
   "metadata": {},
   "outputs": [
    {
     "name": "stdout",
     "output_type": "stream",
     "text": [
      "here\n",
      "5\n"
     ]
    }
   ],
   "source": [
    "# A weried Program\n",
    "\n",
    "def weird():\n",
    "    print(\"here\")\n",
    "    return 5\n",
    "    print(\"there\")\n",
    "    return 10\n",
    "\n",
    "x = weird()\n",
    "print(x)\n"
   ]
  },
  {
   "cell_type": "code",
   "execution_count": 10,
   "metadata": {},
   "outputs": [
    {
     "name": "stdout",
     "output_type": "stream",
     "text": [
      "False\n",
      "True\n"
     ]
    }
   ],
   "source": [
    "def longer_than_five(list_of_names):\n",
    "    for name in list_of_names: # iterate over the list to look at each name\n",
    "        if len(name) > 5: # as soon as you see a name longer than 5 letters,\n",
    "            return True # then return True!\n",
    "            # If Python executes that return statement, the function is over and the rest of the code will not run -- you already have your answer!\n",
    "    return False # You will only get to this line if you\n",
    "    # iterated over the whole list and did not get a name where\n",
    "    # the if expression evaluated to True, so at this point, it's correct to return False!\n",
    "\n",
    "# Here are a couple sample calls to the function with different lists of names. Try running this code in Codelens a few times and make sure you understand exactly what is happening.\n",
    "\n",
    "list1 = [\"Sam\",\"Tera\",\"Sal\",\"Amita\"]\n",
    "list2 = [\"Rey\",\"Ayo\",\"Lauren\",\"Natalie\"]\n",
    "\n",
    "print(longer_than_five(list1))\n",
    "print(longer_than_five(list2))"
   ]
  },
  {
   "cell_type": "code",
   "execution_count": 11,
   "metadata": {},
   "outputs": [
    {
     "name": "stdout",
     "output_type": "stream",
     "text": [
      "g\n",
      "square\n",
      "25\n"
     ]
    }
   ],
   "source": [
    "# Which will print out first\n",
    "def square(x):\n",
    "    print(\"square\")\n",
    "    return x*x\n",
    "\n",
    "def g(y):\n",
    "    print(\"g\")\n",
    "    return y + 3\n",
    "\n",
    "print(square(g(2)))"
   ]
  },
  {
   "cell_type": "code",
   "execution_count": 12,
   "metadata": {},
   "outputs": [
    {
     "name": "stdout",
     "output_type": "stream",
     "text": [
      "10\n",
      "Next we'll accumulate the sum\n"
     ]
    },
    {
     "data": {
      "text/plain": [
       "9"
      ]
     },
     "execution_count": 12,
     "metadata": {},
     "output_type": "execute_result"
    }
   ],
   "source": [
    "# How many line will print the code \n",
    "def show_me_numbers(list_of_ints):\n",
    "    print(10)\n",
    "    print(\"Next we'll accumulate the sum\")\n",
    "    accum = 0\n",
    "    for num in list_of_ints:\n",
    "        accum = accum + num\n",
    "    return accum\n",
    "    print(\"All done with accumulation!\")\n",
    "\n",
    "show_me_numbers([4,2,3])"
   ]
  },
  {
   "cell_type": "code",
   "execution_count": 17,
   "metadata": {},
   "outputs": [
    {
     "data": {
      "text/plain": [
       "'Hello, my name is Becky and Mike and I love SI 106.'"
      ]
     },
     "execution_count": 17,
     "metadata": {},
     "output_type": "execute_result"
    }
   ],
   "source": [
    "def intro(s):\n",
    "    return(\"Hello, my name is {} and I love SI 106.\" .format(s))\n",
    "intro(\"Becky\" + \" and Mike\")"
   ]
  },
  {
   "cell_type": "markdown",
   "metadata": {},
   "source": [
    "# Returning a value from a function"
   ]
  },
  {
   "attachments": {
    "image.png": {
     "image/png": "[encoded data removed]"
    }
   },
   "cell_type": "markdown",
   "metadata": {},
   "source": [
    " ![image.png](attachment:image.png)"
   ]
  },
  {
   "cell_type": "code",
   "execution_count": 18,
   "metadata": {},
   "outputs": [],
   "source": [
    "# 14. Write a function called decision that takes a string as input, and then checks the number of characters. If it has \n",
    "# over 17 characters, return “This is a long string”, if it is shorter or has 17 characters, return “This is a short string”.\n",
    "\n",
    "def decision(s):\n",
    "        if len(s) > 17:\n",
    "            return(\"This is a long string\")\n",
    "        else:\n",
    "            return(\"This is a short string\")"
   ]
  },
  {
   "cell_type": "code",
   "execution_count": 11,
   "metadata": {},
   "outputs": [],
   "source": [
    "def total(lst):\n",
    "    tot = 0\n",
    "    for num in lst:\n",
    "        tot += num\n",
    "    return tot\n",
    "    \n",
    "lst = [4,58,6]\n",
    "y = total(lst)"
   ]
  },
  {
   "cell_type": "code",
   "execution_count": 1,
   "metadata": {},
   "outputs": [
    {
     "data": {
      "text/plain": [
       "<function sum(iterable, start=0, /)>"
      ]
     },
     "execution_count": 1,
     "metadata": {},
     "output_type": "execute_result"
    }
   ],
   "source": [
    "# Write a function, accum, that takes a list of integers as input and returns the sum of those integers.\n",
    "\n",
    "def accum(lst):\n",
    "    sum = 0\n",
    "    for n in lst:\n",
    "        sum = sum + n\n",
    "    return(sum)\n",
    "\n",
    "lst=[5,6,9,4,50]\n",
    "accum(lst)\n",
    "sum"
   ]
  },
  {
   "cell_type": "code",
   "execution_count": 2,
   "metadata": {},
   "outputs": [],
   "source": [
    "# You will need to write two functions for this problem. The first function, divide that takes in any number \n",
    "# and returns that same number divided by 2. The second function called sum should take any number, divide it \n",
    "# by 2, and add 6. It should return this new number. You should call the divide function within the sum function. \n",
    "# Do not worry about decimals. \n",
    "\n",
    "def divide(a):\n",
    "    return(a/2)\n",
    "def sum(b):\n",
    "    return(divide(b) + 6)"
   ]
  },
  {
   "cell_type": "markdown",
   "metadata": {},
   "source": [
    "# Function that accumulates"
   ]
  },
  {
   "cell_type": "code",
   "execution_count": 3,
   "metadata": {},
   "outputs": [
    {
     "name": "stdout",
     "output_type": "stream",
     "text": [
      "5\n",
      "3\n"
     ]
    }
   ],
   "source": [
    "def mylen(seq):\n",
    "    c = 0 # initialize count variable to 0\n",
    "    for _ in seq:\n",
    "        c = c + 1   # increment the counter for each item in seq\n",
    "    return c\n",
    "\n",
    "print(mylen(\"hello\"))\n",
    "print(mylen([1, 2, 7]))"
   ]
  },
  {
   "cell_type": "code",
   "execution_count": 11,
   "metadata": {},
   "outputs": [
    {
     "name": "stdout",
     "output_type": "stream",
     "text": [
      "5\n",
      "3\n"
     ]
    }
   ],
   "source": [
    "def mylen(x):\n",
    "    c = 0\n",
    "    for y in x:\n",
    "        c +=1\n",
    "    return c\n",
    "print(mylen(\"Hello\"))\n",
    "print(mylen([1,2,7]))"
   ]
  },
  {
   "cell_type": "code",
   "execution_count": 15,
   "metadata": {},
   "outputs": [
    {
     "name": "stdout",
     "output_type": "stream",
     "text": [
      "100\n"
     ]
    }
   ],
   "source": [
    "# Square Functions\n",
    "def square(x):\n",
    "    return x*x\n",
    "print(square(10))"
   ]
  },
  {
   "cell_type": "code",
   "execution_count": null,
   "metadata": {},
   "outputs": [],
   "source": []
  }
 ],
 "metadata": {
  "kernelspec": {
   "display_name": "Python 3",
   "language": "python",
   "name": "python3"
  },
  "language_info": {
   "codemirror_mode": {
    "name": "ipython",
    "version": 3
   },
   "file_extension": ".py",
   "mimetype": "text/x-python",
   "name": "python",
   "nbconvert_exporter": "python",
   "pygments_lexer": "ipython3",
   "version": "3.7.5"
  }
 },
 "nbformat": 4,
 "nbformat_minor": 2
}
