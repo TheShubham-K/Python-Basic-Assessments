{
 "cells": [
  {
   "cell_type": "code",
   "execution_count": null,
   "metadata": {},
   "outputs": [],
   "source": [
    "L = [0.34, '6', 'SI106', 'Python', -2]\n",
    "print(len(L[1:-1]))"
   ]
  },
  {
   "cell_type": "code",
   "execution_count": null,
   "metadata": {},
   "outputs": [],
   "source": [
    "L[1:-1]"
   ]
  },
  {
   "cell_type": "code",
   "execution_count": null,
   "metadata": {},
   "outputs": [],
   "source": [
    "# Distionary\n",
    "inventory = {'apples': 430, 'bananas':312, 'oranges': 525, 'pears':210}\n",
    "\n",
    "for key in inventory.keys():\n",
    "    print(key, \"has the value \", inventory[key])\n",
    "keys = list(inventory.keys())\n",
    "\n",
    "print(keys)"
   ]
  },
  {
   "cell_type": "code",
   "execution_count": null,
   "metadata": {},
   "outputs": [],
   "source": [
    "for key in inventory:\n",
    "    print(\"Got Keys: \",key )\n"
   ]
  },
  {
   "cell_type": "code",
   "execution_count": null,
   "metadata": {},
   "outputs": [],
   "source": [
    "print(list(inventory.values()))\n",
    "print(list(inventory.items()))\n",
    "\n",
    "for k in inventory:\n",
    "    print(\"Got\", k, \"that maps to\", inventory[k])"
   ]
  },
  {
   "cell_type": "code",
   "execution_count": null,
   "metadata": {},
   "outputs": [],
   "source": [
    "print('apples' in inventory)\n",
    "\n",
    "if 'bananas' in inventory:\n",
    "    print(inventory['bananas'])\n",
    "else:\n",
    "    print(\"We have no bananas\")"
   ]
  },
  {
   "cell_type": "code",
   "execution_count": null,
   "metadata": {},
   "outputs": [],
   "source": [
    "print(inventory.get(\"apples\"))\n",
    "print(inventory.get(\"cherries\"))\n",
    "print(inventory.get(\"cherries\", 0))"
   ]
  },
  {
   "cell_type": "code",
   "execution_count": null,
   "metadata": {},
   "outputs": [],
   "source": [
    "# Aliasing and Copying\n",
    "opposites = {'up':'down','right':'wrong','true':'false'}\n",
    "alias = opposites\n",
    "\n",
    "print(alias is opposites)\n",
    "\n",
    "alias['right'] = 'left'\n",
    "print(opposites['right'])"
   ]
  },
  {
   "cell_type": "code",
   "execution_count": null,
   "metadata": {},
   "outputs": [],
   "source": [
    "f = open('scarlet', 'r')\n",
    "txt = f.read()\n",
    "\n",
    "# Now txt is one long string containing all the characters \n",
    "t_count = 0  #initialize the accumulator variable\n",
    "s_count = 0  #initialize the s counter accumulator as well\n",
    "for c in txt:\n",
    "    if c == 't':\n",
    "        t_count += 1  #increment the counter\n",
    "    elif c == 's':\n",
    "        s_count += 1\n",
    "        \n",
    "print(\"t: \" + str(t_count) + \" occurances\")\n",
    "print(\"s: \" + str(s_count) + \" occurances\")"
   ]
  },
  {
   "cell_type": "code",
   "execution_count": null,
   "metadata": {},
   "outputs": [],
   "source": [
    "f = open('scarlet', 'r')\n",
    "txt = f.read()\n",
    "\n",
    "# Now txt is one long string containing all the characters \n",
    "x = {}\n",
    "x['t'] = 0  #initialize the accumulator variable\n",
    "x['s'] = 0  #initialize the s counter accumulator as well\n",
    "for c in txt:\n",
    "    if c == 't':\n",
    "        x[c] += 1  #increment the counter\n",
    "    elif c == 's':\n",
    "        x[c] += 1\n",
    "        \n",
    "print(\"t: \" + str(x['t']) + \" occurances\")\n",
    "print(\"s: \" + str(x['s']) + \" occurances\")\n",
    "print(x)"
   ]
  },
  {
   "cell_type": "code",
   "execution_count": 1,
   "metadata": {},
   "outputs": [
    {
     "name": "stdout",
     "output_type": "stream",
     "text": [
      "t: 823 occurances\n",
      "s: 669 occurances\n",
      "a: 863 occurances\n",
      "e: 1285 occurances\n",
      "i: 680 occurances\n",
      "o: 633 occurances\n",
      "u: 282 occurances\n",
      "b: 124 occurances\n",
      "c: 307 occurances\n"
     ]
    }
   ],
   "source": [
    "f = open('scarlet', 'r')\n",
    "txt = f.read()\n",
    "\n",
    "# Now txt is one long string containing all the characters \n",
    "x = {}\n",
    "for c in txt:\n",
    "    if c not in x:\n",
    "        # We have not seen this character before, so initilaze a counter\n",
    "        x[c] = 0\n",
    "    # Whether we've seen it before or not, increment its counter\n",
    "    x[c] += 1\n",
    "        \n",
    "print(\"t: \" + str(x['t']) + \" occurances\")\n",
    "print(\"s: \" + str(x['s']) + \" occurances\")\n",
    "print(\"a: \" + str(x['a']) + \" occurances\")\n",
    "print(\"e: \" + str(x['e']) + \" occurances\")\n",
    "print(\"i: \" + str(x['i']) + \" occurances\")\n",
    "print(\"o: \" + str(x['o']) + \" occurances\")\n",
    "print(\"u: \" + str(x['u']) + \" occurances\")\n",
    "print(\"b: \" + str(x['b']) + \" occurances\")\n",
    "print(\"c: \" + str(x['c']) + \" occurances\")"
   ]
  },
  {
   "cell_type": "code",
   "execution_count": 2,
   "metadata": {},
   "outputs": [
    {
     "name": "stdout",
     "output_type": "stream",
     "text": [
      "T: 67 occurrences\n",
      "h: 498 occurrences\n",
      "e: 1285 occurrences\n",
      " : 2112 occurrences\n",
      "n: 719 occurrences\n",
      "a: 863 occurrences\n",
      "m: 213 occurrences\n",
      "g: 172 occurrences\n",
      "i: 680 occurrences\n",
      "v: 88 occurrences\n",
      "s: 669 occurrences\n",
      "y: 173 occurrences\n",
      "o: 633 occurrences\n",
      "u: 282 occurrences\n",
      "p: 178 occurrences\n",
      "r: 630 occurrences\n",
      "l: 505 occurrences\n",
      "t: 823 occurrences\n",
      ",: 141 occurrences\n",
      "c: 307 occurrences\n",
      "f: 225 occurrences\n",
      "d: 323 occurrences\n",
      ".: 109 occurrences\n",
      "\n",
      ": 50 occurrences\n",
      "b: 124 occurrences\n",
      "q: 9 occurrences\n",
      "Y: 4 occurrences\n",
      "k: 61 occurrences\n",
      "I: 16 occurrences\n",
      "w: 136 occurrences\n",
      "H: 23 occurrences\n",
      "-: 20 occurrences\n",
      "': 50 occurrences\n",
      "W: 32 occurrences\n",
      "K: 2 occurrences\n",
      "A: 19 occurrences\n",
      "x: 15 occurrences\n",
      "S: 85 occurrences\n",
      "F: 26 occurrences\n",
      "1: 42 occurrences\n",
      "8: 24 occurrences\n",
      "2: 57 occurrences\n",
      "0: 95 occurrences\n",
      "9: 6 occurrences\n",
      "7: 17 occurrences\n",
      "V: 2 occurrences\n",
      "5: 9 occurrences\n",
      "D: 14 occurrences\n",
      "B: 14 occurrences\n",
      "N: 22 occurrences\n",
      "(: 12 occurrences\n",
      ":: 5 occurrences\n",
      "): 12 occurrences\n",
      "L: 42 occurrences\n",
      "P: 36 occurrences\n",
      "4: 19 occurrences\n",
      "E: 9 occurrences\n",
      "R: 35 occurrences\n",
      "C: 52 occurrences\n",
      "â: 24 occurrences\n",
      "€: 24 occurrences\n",
      "“: 24 occurrences\n",
      "[: 21 occurrences\n",
      "3: 17 occurrences\n",
      "]: 21 occurrences\n",
      "U: 8 occurrences\n",
      "Q: 2 occurrences\n",
      "G: 9 occurrences\n",
      "Z: 1 occurrences\n",
      "j: 5 occurrences\n",
      "6: 17 occurrences\n",
      "J: 7 occurrences\n",
      "%: 1 occurrences\n",
      "z: 1 occurrences\n",
      "M: 10 occurrences\n",
      ";: 1 occurrences\n",
      "\": 4 occurrences\n",
      "O: 10 occurrences\n",
      "Â: 1 occurrences\n",
      "£: 1 occurrences\n",
      "Ë: 2 occurrences\n",
      "ˆ: 2 occurrences\n",
      "É: 2 occurrences\n",
      "™: 1 occurrences\n",
      "›: 1 occurrences\n",
      "/: 1 occurrences\n",
      "_: 4 occurrences\n",
      "\\: 15 occurrences\n"
     ]
    }
   ],
   "source": [
    "for c in x.keys():\n",
    "    print(c + \": \" + str(x[c]) + \" occurrences\")"
   ]
  },
  {
   "cell_type": "code",
   "execution_count": 3,
   "metadata": {},
   "outputs": [
    {
     "name": "stdout",
     "output_type": "stream",
     "text": [
      "51\n",
      "[]\n"
     ]
    }
   ],
   "source": [
    "f = open('scarlet', 'r')\n",
    "txt_lines = f.readlines()\n",
    "# now txt_lines is a list, where each item is one\n",
    "# line of text from the story\n",
    "print(len(txt_lines))\n",
    "print(txt_lines[70:85])"
   ]
  },
  {
   "cell_type": "code",
   "execution_count": 4,
   "metadata": {},
   "outputs": [
    {
     "name": "stdout",
     "output_type": "stream",
     "text": [
      "{'The': 1, 'dog': 1, 'chased': 1, 'the': 3, 'rabbit': 2, 'into': 1, 'forest': 1, 'but': 1, 'was': 1, 'too': 1, 'quick.': 1}\n"
     ]
    }
   ],
   "source": [
    "sentence = \"The dog chased the rabbit into the forest but the rabbit was too quick.\"\n",
    "\n",
    "words = sentence.split()\n",
    "word_counts = {}\n",
    "\n",
    "for word in words:\n",
    "    if word not in word_counts:\n",
    "        word_counts[word] = 0\n",
    "    word_counts[word] += 1\n",
    "print(word_counts)"
   ]
  },
  {
   "cell_type": "code",
   "execution_count": 5,
   "metadata": {},
   "outputs": [
    {
     "data": {
      "text/plain": [
       "{'w': 1,\n",
       " 'h': 1,\n",
       " 'a': 2,\n",
       " 't': 1,\n",
       " ' ': 3,\n",
       " 'c': 1,\n",
       " 'n': 1,\n",
       " 'I': 1,\n",
       " 'd': 1,\n",
       " 'o': 1}"
      ]
     },
     "execution_count": 5,
     "metadata": {},
     "output_type": "execute_result"
    }
   ],
   "source": [
    "stri = \"what can I do\"\n",
    "\n",
    "char_d = {}\n",
    "for c in stri:\n",
    "    if c not in char_d:\n",
    "        char_d[c] = 0\n",
    "    char_d[c] += 1\n",
    "char_d"
   ]
  },
  {
   "cell_type": "code",
   "execution_count": 7,
   "metadata": {},
   "outputs": [
    {
     "name": "stdout",
     "output_type": "stream",
     "text": [
      "337353\n"
     ]
    }
   ],
   "source": [
    "f = open('scarlet2.txt', 'r')\n",
    "txt = f.read()\n",
    "# now txt is one long string containing all the characters\n",
    "x = {} # start with an empty dictionary\n",
    "for c in txt:\n",
    "    if c not in x:\n",
    "        # we have not seen this character before, so initialize a counter for it\n",
    "        x[c] = 0\n",
    "\n",
    "    #whether we've seen it before or not, increment its counter\n",
    "    x[c] = x[c] + 1\n",
    "\n",
    "letter_values = {'a': 1, 'b': 3, 'c': 3, 'd': 2, 'e': 1, 'f':4, 'g': 2, 'h':4, 'i':1, 'j':8, 'k':5, 'l':1, 'm':3, 'n':1, 'o':1, 'p':3, 'q':10, 'r':1, 's':1, 't':1, 'u':1, 'v':4, 'w':4, 'x':8, 'y':4, 'z':10}\n",
    "\n",
    "tot = 0\n",
    "for y in x:\n",
    "    if y in letter_values:\n",
    "        tot = tot + letter_values[y] * x[y]\n",
    "\n",
    "print(tot)"
   ]
  },
  {
   "cell_type": "code",
   "execution_count": 2,
   "metadata": {},
   "outputs": [
    {
     "name": "stdout",
     "output_type": "stream",
     "text": [
      "key e has the highest value, 312\n"
     ]
    }
   ],
   "source": [
    "# Write a program that finds the key in a dictionary that has the maximum value. \n",
    "# If two keys have the same maximum value, it’s OK to print out either one. Fill \n",
    "# in the skeleton code\n",
    "\n",
    "d = {'a': 194, 'b': 54, 'c':34, 'd': 44, 'e': 312, 'full':31}\n",
    "\n",
    "ks = d.keys()\n",
    "# initialize variable best_key_so_far to be the first key in d\n",
    "best_key_so_far = list(ks)[0]\n",
    "for k in ks:\n",
    "    # check if the value associated with the current key is\n",
    "    # bigger than the value associated with the best_key_so_far\n",
    "    # if so, save the current key as the best so far\n",
    "    for k in ks:\n",
    "        if d[k] > d[best_key_so_far]:\n",
    "            best_key_so_far = k\n",
    "\n",
    "print(\"key \" + best_key_so_far + \" has the highest value, \" + str(d[best_key_so_far]))\n"
   ]
  },
  {
   "cell_type": "code",
   "execution_count": 3,
   "metadata": {},
   "outputs": [],
   "source": [
    "# 1. Create a dictionary called d that keeps track of all the characters in the string placement \n",
    "# and notes how many times each character was seen. Then, find the key with the lowest value in \n",
    "# this dictionary and assign that key to min_value.\n",
    "\n",
    "placement = \"Beaches are cool places to visit in spring however the Mackinaw Bridge is near. Most people visit Mackinaw later since the island is a cool place to explore.\"\n",
    "\n",
    "d = {}\n",
    "\n",
    "for c in placement:\n",
    "    if c not in d:\n",
    "        d[c] = 0\n",
    "    d[c] += 1\n",
    "ks = d.keys()\n",
    "lowest_key_so_far = list(ks)[0]  # Have to turn ks into a real list before using [] to select an item\n",
    "for k in ks:\n",
    "    if d[k] < d[lowest_key_so_far]:\n",
    "        lowest_key_so_far = k\n",
    "min_value = k"
   ]
  },
  {
   "cell_type": "code",
   "execution_count": 4,
   "metadata": {},
   "outputs": [],
   "source": [
    "# 5. Create a dictionary called lett_d that keeps track of all of the characters in the \n",
    "# string product and notes how many times each character was seen. Then, find the key with \n",
    "# the highest value in this dictionary and assign that key to max_value.\n",
    "\n",
    "\n",
    "\n",
    "product = \"iphone and android phones\"\n",
    "\n",
    "lett_d = {}\n",
    "\n",
    "for char in product:\n",
    "    if char not in lett_d:\n",
    "        lett_d[char] = 0\n",
    "    lett_d[char] += 1\n",
    "ks = lett_d.keys()\n",
    "best_key_so_far = list(ks)[0]  # Have to turn ks into a real list before using [] to select an item\n",
    "for k in ks:\n",
    "    if lett_d[k] > lett_d[best_key_so_far]:\n",
    "        best_key_so_far = k\n",
    "max_value = k"
   ]
  }
 ],
 "metadata": {
  "kernelspec": {
   "display_name": "Python 3",
   "language": "python",
   "name": "python3"
  },
  "language_info": {
   "codemirror_mode": {
    "name": "ipython",
    "version": 3
   },
   "file_extension": ".py",
   "mimetype": "text/x-python",
   "name": "python",
   "nbconvert_exporter": "python",
   "pygments_lexer": "ipython3",
   "version": "3.7.1"
  }
 },
 "nbformat": 4,
 "nbformat_minor": 2
}
